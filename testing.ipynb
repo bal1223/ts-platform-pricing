{
 "cells": [
  {
   "cell_type": "code",
   "execution_count": 92,
   "id": "ebfc4e16-b147-4b06-900e-45803dd407be",
   "metadata": {},
   "outputs": [],
   "source": [
    "import pandas as pd\n",
    "import json\n",
    "import numpy as np"
   ]
  },
  {
   "cell_type": "code",
   "execution_count": 33,
   "id": "e46ab170-be90-460e-83f6-7468166754a5",
   "metadata": {},
   "outputs": [
    {
     "data": {
      "text/html": [
       "<div>\n",
       "<style scoped>\n",
       "    .dataframe tbody tr th:only-of-type {\n",
       "        vertical-align: middle;\n",
       "    }\n",
       "\n",
       "    .dataframe tbody tr th {\n",
       "        vertical-align: top;\n",
       "    }\n",
       "\n",
       "    .dataframe thead th {\n",
       "        text-align: right;\n",
       "    }\n",
       "</style>\n",
       "<table border=\"1\" class=\"dataframe\">\n",
       "  <thead>\n",
       "    <tr style=\"text-align: right;\">\n",
       "      <th></th>\n",
       "      <th>monthly_under_loi</th>\n",
       "      <th>total_under_loi</th>\n",
       "      <th>onboarding</th>\n",
       "      <th>total_onboarded</th>\n",
       "    </tr>\n",
       "    <tr>\n",
       "      <th>Month</th>\n",
       "      <th></th>\n",
       "      <th></th>\n",
       "      <th></th>\n",
       "      <th></th>\n",
       "    </tr>\n",
       "  </thead>\n",
       "  <tbody>\n",
       "    <tr>\n",
       "      <th>2022-09-30</th>\n",
       "      <td>6</td>\n",
       "      <td>81</td>\n",
       "      <td>3</td>\n",
       "      <td>3</td>\n",
       "    </tr>\n",
       "    <tr>\n",
       "      <th>2022-10-31</th>\n",
       "      <td>7</td>\n",
       "      <td>88</td>\n",
       "      <td>6</td>\n",
       "      <td>9</td>\n",
       "    </tr>\n",
       "    <tr>\n",
       "      <th>2022-11-30</th>\n",
       "      <td>8</td>\n",
       "      <td>96</td>\n",
       "      <td>10</td>\n",
       "      <td>19</td>\n",
       "    </tr>\n",
       "    <tr>\n",
       "      <th>2022-12-31</th>\n",
       "      <td>8</td>\n",
       "      <td>104</td>\n",
       "      <td>15</td>\n",
       "      <td>34</td>\n",
       "    </tr>\n",
       "    <tr>\n",
       "      <th>2023-01-31</th>\n",
       "      <td>9</td>\n",
       "      <td>113</td>\n",
       "      <td>20</td>\n",
       "      <td>54</td>\n",
       "    </tr>\n",
       "  </tbody>\n",
       "</table>\n",
       "</div>"
      ],
      "text/plain": [
       "            monthly_under_loi  total_under_loi  onboarding  total_onboarded\n",
       "Month                                                                      \n",
       "2022-09-30                  6               81           3                3\n",
       "2022-10-31                  7               88           6                9\n",
       "2022-11-30                  8               96          10               19\n",
       "2022-12-31                  8              104          15               34\n",
       "2023-01-31                  9              113          20               54"
      ]
     },
     "execution_count": 33,
     "metadata": {},
     "output_type": "execute_result"
    }
   ],
   "source": [
    "mig_assumptions = pd.read_csv('migration_assumptions.csv', index_col=0, parse_dates=[0])\n",
    "mig_assumptions.head()"
   ]
  },
  {
   "cell_type": "code",
   "execution_count": 88,
   "id": "99df8af4-92af-4021-96c8-9b4863ce96e5",
   "metadata": {},
   "outputs": [
    {
     "data": {
      "text/plain": [
       "8"
      ]
     },
     "execution_count": 88,
     "metadata": {},
     "output_type": "execute_result"
    }
   ],
   "source": [
    "mig_assumptions[\"monthly_under_loi\"][2]"
   ]
  },
  {
   "cell_type": "code",
   "execution_count": 42,
   "id": "7659df64-a838-4d58-b417-c29057fce23e",
   "metadata": {},
   "outputs": [
    {
     "data": {
      "text/html": [
       "<div>\n",
       "<style scoped>\n",
       "    .dataframe tbody tr th:only-of-type {\n",
       "        vertical-align: middle;\n",
       "    }\n",
       "\n",
       "    .dataframe tbody tr th {\n",
       "        vertical-align: top;\n",
       "    }\n",
       "\n",
       "    .dataframe thead th {\n",
       "        text-align: right;\n",
       "    }\n",
       "</style>\n",
       "<table border=\"1\" class=\"dataframe\">\n",
       "  <thead>\n",
       "    <tr style=\"text-align: right;\">\n",
       "      <th></th>\n",
       "      <th>monthly_under_loi</th>\n",
       "      <th>total_under_loi</th>\n",
       "      <th>onboarding</th>\n",
       "      <th>total_onboarded</th>\n",
       "    </tr>\n",
       "    <tr>\n",
       "      <th>Month</th>\n",
       "      <th></th>\n",
       "      <th></th>\n",
       "      <th></th>\n",
       "      <th></th>\n",
       "    </tr>\n",
       "  </thead>\n",
       "  <tbody>\n",
       "    <tr>\n",
       "      <th>2022-09-30</th>\n",
       "      <td>6</td>\n",
       "      <td>81</td>\n",
       "      <td>3</td>\n",
       "      <td>3</td>\n",
       "    </tr>\n",
       "    <tr>\n",
       "      <th>2022-12-31</th>\n",
       "      <td>23</td>\n",
       "      <td>288</td>\n",
       "      <td>31</td>\n",
       "      <td>62</td>\n",
       "    </tr>\n",
       "    <tr>\n",
       "      <th>2023-03-31</th>\n",
       "      <td>28</td>\n",
       "      <td>367</td>\n",
       "      <td>65</td>\n",
       "      <td>227</td>\n",
       "    </tr>\n",
       "    <tr>\n",
       "      <th>2023-06-30</th>\n",
       "      <td>33</td>\n",
       "      <td>462</td>\n",
       "      <td>66</td>\n",
       "      <td>443</td>\n",
       "    </tr>\n",
       "    <tr>\n",
       "      <th>2023-09-30</th>\n",
       "      <td>37</td>\n",
       "      <td>568</td>\n",
       "      <td>37</td>\n",
       "      <td>568</td>\n",
       "    </tr>\n",
       "    <tr>\n",
       "      <th>2023-12-31</th>\n",
       "      <td>42</td>\n",
       "      <td>688</td>\n",
       "      <td>42</td>\n",
       "      <td>688</td>\n",
       "    </tr>\n",
       "    <tr>\n",
       "      <th>2024-03-31</th>\n",
       "      <td>45</td>\n",
       "      <td>822</td>\n",
       "      <td>45</td>\n",
       "      <td>822</td>\n",
       "    </tr>\n",
       "    <tr>\n",
       "      <th>2024-06-30</th>\n",
       "      <td>49</td>\n",
       "      <td>964</td>\n",
       "      <td>49</td>\n",
       "      <td>964</td>\n",
       "    </tr>\n",
       "    <tr>\n",
       "      <th>2024-09-30</th>\n",
       "      <td>52</td>\n",
       "      <td>1117</td>\n",
       "      <td>52</td>\n",
       "      <td>1117</td>\n",
       "    </tr>\n",
       "    <tr>\n",
       "      <th>2024-12-31</th>\n",
       "      <td>54</td>\n",
       "      <td>1278</td>\n",
       "      <td>54</td>\n",
       "      <td>1278</td>\n",
       "    </tr>\n",
       "  </tbody>\n",
       "</table>\n",
       "</div>"
      ],
      "text/plain": [
       "            monthly_under_loi  total_under_loi  onboarding  total_onboarded\n",
       "Month                                                                      \n",
       "2022-09-30                  6               81           3                3\n",
       "2022-12-31                 23              288          31               62\n",
       "2023-03-31                 28              367          65              227\n",
       "2023-06-30                 33              462          66              443\n",
       "2023-09-30                 37              568          37              568\n",
       "2023-12-31                 42              688          42              688\n",
       "2024-03-31                 45              822          45              822\n",
       "2024-06-30                 49              964          49              964\n",
       "2024-09-30                 52             1117          52             1117\n",
       "2024-12-31                 54             1278          54             1278"
      ]
     },
     "execution_count": 42,
     "metadata": {},
     "output_type": "execute_result"
    }
   ],
   "source": [
    "mig_assumptions.resample('Q').sum()"
   ]
  },
  {
   "cell_type": "code",
   "execution_count": 70,
   "id": "c9c9a8f1-7faa-413e-b480-dd9a1f8f250a",
   "metadata": {},
   "outputs": [
    {
     "data": {
      "text/html": [
       "<div>\n",
       "<style scoped>\n",
       "    .dataframe tbody tr th:only-of-type {\n",
       "        vertical-align: middle;\n",
       "    }\n",
       "\n",
       "    .dataframe tbody tr th {\n",
       "        vertical-align: top;\n",
       "    }\n",
       "\n",
       "    .dataframe thead th {\n",
       "        text-align: right;\n",
       "    }\n",
       "</style>\n",
       "<table border=\"1\" class=\"dataframe\">\n",
       "  <thead>\n",
       "    <tr style=\"text-align: right;\">\n",
       "      <th></th>\n",
       "      <th>monthly_under_loi</th>\n",
       "      <th>total_under_loi</th>\n",
       "      <th>onboarding</th>\n",
       "      <th>total_onboarded</th>\n",
       "    </tr>\n",
       "    <tr>\n",
       "      <th>Month</th>\n",
       "      <th></th>\n",
       "      <th></th>\n",
       "      <th></th>\n",
       "      <th></th>\n",
       "    </tr>\n",
       "  </thead>\n",
       "  <tbody>\n",
       "    <tr>\n",
       "      <th>2022-09-30</th>\n",
       "      <td>6</td>\n",
       "      <td>81</td>\n",
       "      <td>3</td>\n",
       "      <td>3</td>\n",
       "    </tr>\n",
       "    <tr>\n",
       "      <th>2022-10-31</th>\n",
       "      <td>7</td>\n",
       "      <td>88</td>\n",
       "      <td>6</td>\n",
       "      <td>9</td>\n",
       "    </tr>\n",
       "    <tr>\n",
       "      <th>2022-11-30</th>\n",
       "      <td>8</td>\n",
       "      <td>96</td>\n",
       "      <td>10</td>\n",
       "      <td>19</td>\n",
       "    </tr>\n",
       "    <tr>\n",
       "      <th>2022-12-31</th>\n",
       "      <td>8</td>\n",
       "      <td>104</td>\n",
       "      <td>15</td>\n",
       "      <td>34</td>\n",
       "    </tr>\n",
       "    <tr>\n",
       "      <th>2023-01-31</th>\n",
       "      <td>9</td>\n",
       "      <td>113</td>\n",
       "      <td>20</td>\n",
       "      <td>54</td>\n",
       "    </tr>\n",
       "    <tr>\n",
       "      <th>2023-02-28</th>\n",
       "      <td>9</td>\n",
       "      <td>122</td>\n",
       "      <td>20</td>\n",
       "      <td>74</td>\n",
       "    </tr>\n",
       "    <tr>\n",
       "      <th>2023-03-31</th>\n",
       "      <td>10</td>\n",
       "      <td>132</td>\n",
       "      <td>25</td>\n",
       "      <td>99</td>\n",
       "    </tr>\n",
       "    <tr>\n",
       "      <th>2023-04-30</th>\n",
       "      <td>11</td>\n",
       "      <td>143</td>\n",
       "      <td>25</td>\n",
       "      <td>124</td>\n",
       "    </tr>\n",
       "    <tr>\n",
       "      <th>2023-05-31</th>\n",
       "      <td>11</td>\n",
       "      <td>154</td>\n",
       "      <td>30</td>\n",
       "      <td>154</td>\n",
       "    </tr>\n",
       "    <tr>\n",
       "      <th>2023-06-30</th>\n",
       "      <td>11</td>\n",
       "      <td>165</td>\n",
       "      <td>11</td>\n",
       "      <td>165</td>\n",
       "    </tr>\n",
       "    <tr>\n",
       "      <th>2023-07-31</th>\n",
       "      <td>12</td>\n",
       "      <td>177</td>\n",
       "      <td>12</td>\n",
       "      <td>177</td>\n",
       "    </tr>\n",
       "    <tr>\n",
       "      <th>2023-08-31</th>\n",
       "      <td>12</td>\n",
       "      <td>189</td>\n",
       "      <td>12</td>\n",
       "      <td>189</td>\n",
       "    </tr>\n",
       "    <tr>\n",
       "      <th>2023-09-30</th>\n",
       "      <td>13</td>\n",
       "      <td>202</td>\n",
       "      <td>13</td>\n",
       "      <td>202</td>\n",
       "    </tr>\n",
       "    <tr>\n",
       "      <th>2023-10-31</th>\n",
       "      <td>13</td>\n",
       "      <td>215</td>\n",
       "      <td>13</td>\n",
       "      <td>215</td>\n",
       "    </tr>\n",
       "    <tr>\n",
       "      <th>2023-11-30</th>\n",
       "      <td>14</td>\n",
       "      <td>229</td>\n",
       "      <td>14</td>\n",
       "      <td>229</td>\n",
       "    </tr>\n",
       "    <tr>\n",
       "      <th>2023-12-31</th>\n",
       "      <td>15</td>\n",
       "      <td>244</td>\n",
       "      <td>15</td>\n",
       "      <td>244</td>\n",
       "    </tr>\n",
       "    <tr>\n",
       "      <th>2024-01-31</th>\n",
       "      <td>15</td>\n",
       "      <td>259</td>\n",
       "      <td>15</td>\n",
       "      <td>259</td>\n",
       "    </tr>\n",
       "    <tr>\n",
       "      <th>2024-02-29</th>\n",
       "      <td>15</td>\n",
       "      <td>274</td>\n",
       "      <td>15</td>\n",
       "      <td>274</td>\n",
       "    </tr>\n",
       "    <tr>\n",
       "      <th>2024-03-31</th>\n",
       "      <td>15</td>\n",
       "      <td>289</td>\n",
       "      <td>15</td>\n",
       "      <td>289</td>\n",
       "    </tr>\n",
       "    <tr>\n",
       "      <th>2024-04-30</th>\n",
       "      <td>16</td>\n",
       "      <td>305</td>\n",
       "      <td>16</td>\n",
       "      <td>305</td>\n",
       "    </tr>\n",
       "    <tr>\n",
       "      <th>2024-05-31</th>\n",
       "      <td>16</td>\n",
       "      <td>321</td>\n",
       "      <td>16</td>\n",
       "      <td>321</td>\n",
       "    </tr>\n",
       "    <tr>\n",
       "      <th>2024-06-30</th>\n",
       "      <td>17</td>\n",
       "      <td>338</td>\n",
       "      <td>17</td>\n",
       "      <td>338</td>\n",
       "    </tr>\n",
       "    <tr>\n",
       "      <th>2024-07-31</th>\n",
       "      <td>17</td>\n",
       "      <td>355</td>\n",
       "      <td>17</td>\n",
       "      <td>355</td>\n",
       "    </tr>\n",
       "    <tr>\n",
       "      <th>2024-08-31</th>\n",
       "      <td>17</td>\n",
       "      <td>372</td>\n",
       "      <td>17</td>\n",
       "      <td>372</td>\n",
       "    </tr>\n",
       "    <tr>\n",
       "      <th>2024-09-30</th>\n",
       "      <td>18</td>\n",
       "      <td>390</td>\n",
       "      <td>18</td>\n",
       "      <td>390</td>\n",
       "    </tr>\n",
       "    <tr>\n",
       "      <th>2024-10-31</th>\n",
       "      <td>18</td>\n",
       "      <td>408</td>\n",
       "      <td>18</td>\n",
       "      <td>408</td>\n",
       "    </tr>\n",
       "    <tr>\n",
       "      <th>2024-11-30</th>\n",
       "      <td>18</td>\n",
       "      <td>426</td>\n",
       "      <td>18</td>\n",
       "      <td>426</td>\n",
       "    </tr>\n",
       "    <tr>\n",
       "      <th>2024-12-31</th>\n",
       "      <td>18</td>\n",
       "      <td>444</td>\n",
       "      <td>18</td>\n",
       "      <td>444</td>\n",
       "    </tr>\n",
       "  </tbody>\n",
       "</table>\n",
       "</div>"
      ],
      "text/plain": [
       "            monthly_under_loi  total_under_loi  onboarding  total_onboarded\n",
       "Month                                                                      \n",
       "2022-09-30                  6               81           3                3\n",
       "2022-10-31                  7               88           6                9\n",
       "2022-11-30                  8               96          10               19\n",
       "2022-12-31                  8              104          15               34\n",
       "2023-01-31                  9              113          20               54\n",
       "2023-02-28                  9              122          20               74\n",
       "2023-03-31                 10              132          25               99\n",
       "2023-04-30                 11              143          25              124\n",
       "2023-05-31                 11              154          30              154\n",
       "2023-06-30                 11              165          11              165\n",
       "2023-07-31                 12              177          12              177\n",
       "2023-08-31                 12              189          12              189\n",
       "2023-09-30                 13              202          13              202\n",
       "2023-10-31                 13              215          13              215\n",
       "2023-11-30                 14              229          14              229\n",
       "2023-12-31                 15              244          15              244\n",
       "2024-01-31                 15              259          15              259\n",
       "2024-02-29                 15              274          15              274\n",
       "2024-03-31                 15              289          15              289\n",
       "2024-04-30                 16              305          16              305\n",
       "2024-05-31                 16              321          16              321\n",
       "2024-06-30                 17              338          17              338\n",
       "2024-07-31                 17              355          17              355\n",
       "2024-08-31                 17              372          17              372\n",
       "2024-09-30                 18              390          18              390\n",
       "2024-10-31                 18              408          18              408\n",
       "2024-11-30                 18              426          18              426\n",
       "2024-12-31                 18              444          18              444"
      ]
     },
     "execution_count": 70,
     "metadata": {},
     "output_type": "execute_result"
    }
   ],
   "source": [
    "mig_assumptions"
   ]
  },
  {
   "cell_type": "code",
   "execution_count": 6,
   "id": "5a025424-0dd0-4551-b8f9-721c408e3e42",
   "metadata": {},
   "outputs": [
    {
     "name": "stdout",
     "output_type": "stream",
     "text": [
      "{'Physics': 67, 'Maths': 87, 'Practical': 48}\n"
     ]
    }
   ],
   "source": [
    "marks = {'Physics':67, 'Maths':87}\n",
    "internal_marks = {'Practical':48}\n",
    "\n",
    "marks.update(internal_marks)\n",
    "\n",
    "\n",
    "print(marks)\n",
    "\n",
    "# Output: {'Physics': 67, 'Maths': 87, 'Practical': 48}"
   ]
  },
  {
   "cell_type": "code",
   "execution_count": 7,
   "id": "6b1f8e4f-d0d7-4c66-8671-76b6edaea925",
   "metadata": {},
   "outputs": [],
   "source": [
    "marks.update({'Practical': 'test'})"
   ]
  },
  {
   "cell_type": "code",
   "execution_count": 8,
   "id": "179d0ede-7e48-48e6-9131-6882411abe8a",
   "metadata": {},
   "outputs": [
    {
     "data": {
      "text/plain": [
       "{'Physics': 67, 'Maths': 87, 'Practical': 'test'}"
      ]
     },
     "execution_count": 8,
     "metadata": {},
     "output_type": "execute_result"
    }
   ],
   "source": [
    "marks"
   ]
  },
  {
   "cell_type": "code",
   "execution_count": 14,
   "id": "20118934-55e1-4d26-ac99-8ff5a781d6a2",
   "metadata": {},
   "outputs": [],
   "source": [
    "with open('scenario_config.json') as f:\n",
    "    scenario_assumptions = json.load(f)\n",
    "    f.close()"
   ]
  },
  {
   "cell_type": "code",
   "execution_count": 15,
   "id": "c7b6c212-2c96-4d2a-9ba3-69b283671354",
   "metadata": {},
   "outputs": [
    {
     "data": {
      "text/plain": [
       "{'avg_deposits_balance': 0, 'acct_count': 0}"
      ]
     },
     "execution_count": 15,
     "metadata": {},
     "output_type": "execute_result"
    }
   ],
   "source": [
    "scenario_assumptions"
   ]
  },
  {
   "cell_type": "code",
   "execution_count": 16,
   "id": "2f3f1295-1159-4f19-9cef-038e1b351c03",
   "metadata": {},
   "outputs": [
    {
     "data": {
      "text/plain": [
       "RangeIndex(start=0, stop=28, step=1)"
      ]
     },
     "execution_count": 16,
     "metadata": {},
     "output_type": "execute_result"
    }
   ],
   "source": [
    "mig_assumptions.index"
   ]
  },
  {
   "cell_type": "code",
   "execution_count": 17,
   "id": "e7029691-c503-465e-9f56-75c99379f40f",
   "metadata": {},
   "outputs": [],
   "source": [
    "new_df = pd.DataFrame(index=mig_assumptions.index)"
   ]
  },
  {
   "cell_type": "code",
   "execution_count": 45,
   "id": "ef25ea09-b157-4f95-a691-50a3de8bde8c",
   "metadata": {},
   "outputs": [
    {
     "name": "stdout",
     "output_type": "stream",
     "text": [
      "1 4\n",
      "2 5\n",
      "3 6\n",
      "4 7\n"
     ]
    }
   ],
   "source": [
    "l1=[1,2,3,4]\n",
    "l2=[4,5,6,7]\n",
    "for i, j in zip(l1, l2):\n",
    "    print(i, j)"
   ]
  },
  {
   "cell_type": "code",
   "execution_count": 48,
   "id": "b529c2e8-2abd-4806-b85c-d0f7fb0b5d79",
   "metadata": {},
   "outputs": [
    {
     "ename": "TypeError",
     "evalue": "object of type 'float' has no len()",
     "output_type": "error",
     "traceback": [
      "\u001b[0;31m---------------------------------------------------------------------------\u001b[0m",
      "\u001b[0;31mTypeError\u001b[0m                                 Traceback (most recent call last)",
      "Input \u001b[0;32mIn [48]\u001b[0m, in \u001b[0;36m<module>\u001b[0;34m\u001b[0m\n\u001b[1;32m      1\u001b[0m i\u001b[38;5;241m=\u001b[39m\u001b[38;5;241m1.\u001b[39m\n\u001b[0;32m----> 2\u001b[0m \u001b[38;5;28;43mlen\u001b[39;49m\u001b[43m(\u001b[49m\u001b[43mi\u001b[49m\u001b[43m)\u001b[49m\n",
      "\u001b[0;31mTypeError\u001b[0m: object of type 'float' has no len()"
     ]
    }
   ],
   "source": [
    "i=1.\n",
    "len(i)"
   ]
  },
  {
   "cell_type": "code",
   "execution_count": 49,
   "id": "8d943a31-fcc3-4a39-8c0e-bbea44df6199",
   "metadata": {},
   "outputs": [
    {
     "data": {
      "text/plain": [
       "True"
      ]
     },
     "execution_count": 49,
     "metadata": {},
     "output_type": "execute_result"
    }
   ],
   "source": [
    "isinstance(i, float)"
   ]
  },
  {
   "cell_type": "code",
   "execution_count": 56,
   "id": "449c5d13-382c-4322-9eab-9692c5dec11b",
   "metadata": {},
   "outputs": [
    {
     "data": {
      "text/plain": [
       "[1.0, 1.0, 1.0, 1.0, 1.0]"
      ]
     },
     "execution_count": 56,
     "metadata": {},
     "output_type": "execute_result"
    }
   ],
   "source": [
    "[i]*5"
   ]
  },
  {
   "cell_type": "code",
   "execution_count": 55,
   "id": "5d507ba6-66b4-42ae-8a06-fcb66aae17ba",
   "metadata": {},
   "outputs": [
    {
     "data": {
      "text/plain": [
       "0    1.0\n",
       "1    1.0\n",
       "2    1.0\n",
       "3    1.0\n",
       "4    1.0\n",
       "dtype: float64"
      ]
     },
     "execution_count": 55,
     "metadata": {},
     "output_type": "execute_result"
    }
   ],
   "source": [
    "pd.Series([i]*5)"
   ]
  },
  {
   "cell_type": "code",
   "execution_count": 57,
   "id": "7a6b81b1-5106-4489-a441-14954e05b677",
   "metadata": {},
   "outputs": [],
   "source": [
    "d = {\n",
    "    \"stripe\": {\n",
    "        \"costs\": [],\n",
    "        \"revenue\": {\n",
    "            \"interchange\": [\n",
    "\n",
    "            ],\n",
    "            \"partner_bank\": \"Evolve B&T\"\n",
    "        }\n",
    "    },\n",
    "    \"unit\": {\n",
    "        \"costs\": [],\n",
    "        \"revenue\": {\n",
    "            \"interchange\": [\n",
    "\n",
    "            ],\n",
    "            \"partner_bank\": \"Blue Ridge\"\n",
    "        }\n",
    "    },\n",
    "    \"treasury_prime\": {\n",
    "        \"costs\": [],\n",
    "        \"revenue\": {\n",
    "            \"interchange\": [\n",
    "\n",
    "            ],\n",
    "            \"partner_bank\": \"Piermont\"\n",
    "        }\n",
    "    }\n",
    "}"
   ]
  },
  {
   "cell_type": "code",
   "execution_count": 61,
   "id": "4e8686e8-e7cc-42e7-a973-bab3da2f845b",
   "metadata": {},
   "outputs": [
    {
     "data": {
      "text/plain": [
       "dict_values([{'costs': [], 'revenue': {'interchange': [], 'partner_bank': 'Evolve B&T'}}, {'costs': [], 'revenue': {'interchange': [], 'partner_bank': 'Blue Ridge'}}, {'costs': [], 'revenue': {'interchange': [], 'partner_bank': 'Piermont'}}])"
      ]
     },
     "execution_count": 61,
     "metadata": {},
     "output_type": "execute_result"
    }
   ],
   "source": [
    "d.values()"
   ]
  },
  {
   "cell_type": "code",
   "execution_count": 64,
   "id": "6810455c-068d-427c-afa8-a18b8189a98c",
   "metadata": {},
   "outputs": [
    {
     "name": "stdout",
     "output_type": "stream",
     "text": [
      "stripe {'interchange': [], 'partner_bank': 'Evolve B&T'}\n",
      "unit {'interchange': [], 'partner_bank': 'Blue Ridge'}\n",
      "treasury_prime {'interchange': [], 'partner_bank': 'Piermont'}\n"
     ]
    }
   ],
   "source": [
    "for k, v in d.items():\n",
    "    print(k,v['revenue'])"
   ]
  },
  {
   "cell_type": "code",
   "execution_count": 67,
   "id": "8ac0cd5e-aa80-41c7-a477-434785309079",
   "metadata": {},
   "outputs": [],
   "source": [
    "l1 = ['stripe','treasury_prime', 'unit']\n",
    "l2 = ['column']"
   ]
  },
  {
   "cell_type": "code",
   "execution_count": 68,
   "id": "bf29c258-0bc5-4993-a67a-8b607a9a8d36",
   "metadata": {},
   "outputs": [
    {
     "data": {
      "text/plain": [
       "['stripe', 'unit', 'treasury_prime']"
      ]
     },
     "execution_count": 68,
     "metadata": {},
     "output_type": "execute_result"
    }
   ],
   "source": [
    "list(set(l1)-set(l2))"
   ]
  },
  {
   "cell_type": "code",
   "execution_count": 73,
   "id": "e14ce87c-be26-409d-a47d-fff9fdbea44d",
   "metadata": {},
   "outputs": [
    {
     "data": {
      "text/html": [
       "<div>\n",
       "<style scoped>\n",
       "    .dataframe tbody tr th:only-of-type {\n",
       "        vertical-align: middle;\n",
       "    }\n",
       "\n",
       "    .dataframe tbody tr th {\n",
       "        vertical-align: top;\n",
       "    }\n",
       "\n",
       "    .dataframe thead th {\n",
       "        text-align: right;\n",
       "    }\n",
       "</style>\n",
       "<table border=\"1\" class=\"dataframe\">\n",
       "  <thead>\n",
       "    <tr style=\"text-align: right;\">\n",
       "      <th></th>\n",
       "      <th>New Accounts</th>\n",
       "    </tr>\n",
       "    <tr>\n",
       "      <th>Month</th>\n",
       "      <th></th>\n",
       "    </tr>\n",
       "  </thead>\n",
       "  <tbody>\n",
       "    <tr>\n",
       "      <th>2022-09-30</th>\n",
       "      <td>6.0</td>\n",
       "    </tr>\n",
       "    <tr>\n",
       "      <th>2022-10-31</th>\n",
       "      <td>12.0</td>\n",
       "    </tr>\n",
       "    <tr>\n",
       "      <th>2022-11-30</th>\n",
       "      <td>20.0</td>\n",
       "    </tr>\n",
       "    <tr>\n",
       "      <th>2022-12-31</th>\n",
       "      <td>30.0</td>\n",
       "    </tr>\n",
       "    <tr>\n",
       "      <th>2023-01-31</th>\n",
       "      <td>40.0</td>\n",
       "    </tr>\n",
       "  </tbody>\n",
       "</table>\n",
       "</div>"
      ],
      "text/plain": [
       "            New Accounts\n",
       "Month                   \n",
       "2022-09-30           6.0\n",
       "2022-10-31          12.0\n",
       "2022-11-30          20.0\n",
       "2022-12-31          30.0\n",
       "2023-01-31          40.0"
      ]
     },
     "execution_count": 73,
     "metadata": {},
     "output_type": "execute_result"
    }
   ],
   "source": [
    "td = pd.DataFrame(index=mig_assumptions.index)\n",
    "td['New Accounts'] = mig_assumptions.onboarding * 2.\n",
    "td.head()"
   ]
  },
  {
   "cell_type": "code",
   "execution_count": 78,
   "id": "8c5a4652-fb55-4116-acba-bfed43f6155c",
   "metadata": {},
   "outputs": [],
   "source": [
    "fed_rates = pd.read_csv('fed_rate.csv', index_col=0, parse_dates=[0])"
   ]
  },
  {
   "cell_type": "code",
   "execution_count": 79,
   "id": "d8c5d5c8-afc2-49bb-a337-4d4e3fd2a617",
   "metadata": {},
   "outputs": [
    {
     "data": {
      "text/plain": [
       "array([1.  , 1.25, 1.25, 1.5 , 1.75, 2.  , 2.  , 2.25, 2.25, 2.25, 2.25,\n",
       "       2.5 , 2.5 , 2.5 , 2.5 , 2.75, 2.75, 2.75, 2.75, 3.  , 3.  , 3.  ,\n",
       "       3.  , 3.  , 3.  , 3.  , 3.  , 3.  ])"
      ]
     },
     "execution_count": 79,
     "metadata": {},
     "output_type": "execute_result"
    }
   ],
   "source": [
    "fed_rates.effr.values"
   ]
  },
  {
   "cell_type": "code",
   "execution_count": 82,
   "id": "c2e4d161-2ff6-429b-a1ee-62b3769514d1",
   "metadata": {},
   "outputs": [],
   "source": [
    "d = {\"1\": 10, \"2\": 20}"
   ]
  },
  {
   "cell_type": "code",
   "execution_count": 83,
   "id": "d5ee62e1-0f44-4151-bb5a-2d820ae92df0",
   "metadata": {},
   "outputs": [
    {
     "data": {
      "text/plain": [
       "{'1': 10, '2': 20}"
      ]
     },
     "execution_count": 83,
     "metadata": {},
     "output_type": "execute_result"
    }
   ],
   "source": [
    "d"
   ]
  },
  {
   "cell_type": "code",
   "execution_count": 84,
   "id": "8a184b29-9773-4aca-94d5-4a1ff691555c",
   "metadata": {},
   "outputs": [
    {
     "data": {
      "text/plain": [
       "dict_values([10, 20])"
      ]
     },
     "execution_count": 84,
     "metadata": {},
     "output_type": "execute_result"
    }
   ],
   "source": [
    "d.values()"
   ]
  },
  {
   "cell_type": "code",
   "execution_count": 86,
   "id": "fcd9e7ab-a8f9-4448-a8cd-4def49b5ac74",
   "metadata": {},
   "outputs": [
    {
     "data": {
      "text/plain": [
       "30"
      ]
     },
     "execution_count": 86,
     "metadata": {},
     "output_type": "execute_result"
    }
   ],
   "source": [
    "sum(d.values())"
   ]
  },
  {
   "cell_type": "code",
   "execution_count": 87,
   "id": "6e8d32a8-8a78-41ef-868f-803487340354",
   "metadata": {},
   "outputs": [
    {
     "data": {
      "text/plain": [
       "'1'"
      ]
     },
     "execution_count": 87,
     "metadata": {},
     "output_type": "execute_result"
    }
   ],
   "source": [
    "str(1)"
   ]
  },
  {
   "cell_type": "code",
   "execution_count": 89,
   "id": "654b545a-e75e-48b6-a4d0-fd2cf2e83b86",
   "metadata": {},
   "outputs": [
    {
     "data": {
      "text/plain": [
       "2"
      ]
     },
     "execution_count": 89,
     "metadata": {},
     "output_type": "execute_result"
    }
   ],
   "source": [
    "round(2.5)"
   ]
  },
  {
   "cell_type": "code",
   "execution_count": 94,
   "id": "0f04afad-c437-4067-bfa1-a713a4961508",
   "metadata": {},
   "outputs": [
    {
     "data": {
      "text/plain": [
       "2"
      ]
     },
     "execution_count": 94,
     "metadata": {},
     "output_type": "execute_result"
    }
   ],
   "source": [
    "round(2.5)"
   ]
  },
  {
   "cell_type": "code",
   "execution_count": 95,
   "id": "79066124-0605-447d-867c-2dcc01e855a4",
   "metadata": {},
   "outputs": [],
   "source": [
    "d = ['stripe_1', 'stripe_2', 'stripe_3', 'units_1', 'unit2']"
   ]
  },
  {
   "cell_type": "code",
   "execution_count": 100,
   "id": "c0f7abf7-22b8-4c3f-8bdc-a27316baea0e",
   "metadata": {},
   "outputs": [
    {
     "data": {
      "text/plain": [
       "['monthly_under_loi']"
      ]
     },
     "execution_count": 100,
     "metadata": {},
     "output_type": "execute_result"
    }
   ],
   "source": [
    "[i for i in mig_assumptions.columns if 'monthly_under_loi' in i]"
   ]
  },
  {
   "cell_type": "code",
   "execution_count": 98,
   "id": "463770de-7ea5-45d7-8ae4-e7631c577246",
   "metadata": {},
   "outputs": [
    {
     "data": {
      "text/plain": [
       "Month\n",
       "2022-09-30     9\n",
       "2022-10-31    13\n",
       "2022-11-30    18\n",
       "2022-12-31    23\n",
       "2023-01-31    29\n",
       "2023-02-28    29\n",
       "2023-03-31    35\n",
       "2023-04-30    36\n",
       "2023-05-31    41\n",
       "2023-06-30    22\n",
       "2023-07-31    24\n",
       "2023-08-31    24\n",
       "2023-09-30    26\n",
       "2023-10-31    26\n",
       "2023-11-30    28\n",
       "2023-12-31    30\n",
       "2024-01-31    30\n",
       "2024-02-29    30\n",
       "2024-03-31    30\n",
       "2024-04-30    32\n",
       "2024-05-31    32\n",
       "2024-06-30    34\n",
       "2024-07-31    34\n",
       "2024-08-31    34\n",
       "2024-09-30    36\n",
       "2024-10-31    36\n",
       "2024-11-30    36\n",
       "2024-12-31    36\n",
       "dtype: int64"
      ]
     },
     "execution_count": 98,
     "metadata": {},
     "output_type": "execute_result"
    }
   ],
   "source": [
    "mig_assumptions[['monthly_under_loi', 'onboarding']].sum(axis=1)"
   ]
  },
  {
   "cell_type": "code",
   "execution_count": 99,
   "id": "3de96b2d-f5c7-48cf-870f-dcc4f8b9aec2",
   "metadata": {},
   "outputs": [
    {
     "data": {
      "text/plain": [
       "Index(['monthly_under_loi', 'total_under_loi', 'onboarding',\n",
       "       'total_onboarded'],\n",
       "      dtype='object')"
      ]
     },
     "execution_count": 99,
     "metadata": {},
     "output_type": "execute_result"
    }
   ],
   "source": [
    "mig_assumptions.columns"
   ]
  },
  {
   "cell_type": "code",
   "execution_count": 101,
   "id": "66955927-bfe3-4baa-87d1-ae2e0eabd9da",
   "metadata": {},
   "outputs": [
    {
     "data": {
      "text/plain": [
       "range(0, 10)"
      ]
     },
     "execution_count": 101,
     "metadata": {},
     "output_type": "execute_result"
    }
   ],
   "source": [
    "range(10)"
   ]
  },
  {
   "cell_type": "code",
   "execution_count": 103,
   "id": "fafc1418-61b6-4167-ab44-c15a15ac4dd0",
   "metadata": {},
   "outputs": [
    {
     "name": "stdout",
     "output_type": "stream",
     "text": [
      "0\n",
      "1\n",
      "2\n",
      "3\n",
      "4\n",
      "5\n",
      "6\n",
      "7\n",
      "8\n",
      "9\n"
     ]
    }
   ],
   "source": [
    "for i in range(10):\n",
    "    print(i)"
   ]
  },
  {
   "cell_type": "code",
   "execution_count": null,
   "id": "23a5d11d-111d-446c-8432-28ca9751cfa8",
   "metadata": {},
   "outputs": [],
   "source": []
  }
 ],
 "metadata": {
  "kernelspec": {
   "display_name": "Python 3 (ipykernel)",
   "language": "python",
   "name": "python3"
  },
  "language_info": {
   "codemirror_mode": {
    "name": "ipython",
    "version": 3
   },
   "file_extension": ".py",
   "mimetype": "text/x-python",
   "name": "python",
   "nbconvert_exporter": "python",
   "pygments_lexer": "ipython3",
   "version": "3.9.10"
  }
 },
 "nbformat": 4,
 "nbformat_minor": 5
}
